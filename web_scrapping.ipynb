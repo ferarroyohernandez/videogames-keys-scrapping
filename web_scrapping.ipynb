{
 "cells": [
  {
   "cell_type": "code",
   "execution_count": 4,
   "metadata": {},
   "outputs": [],
   "source": [
    "from bs4 import BeautifulSoup\n",
    "import requests\n",
    "import pandas as pd\n",
    "from datetime import datetime\n",
    "from tqdm import tqdm"
   ]
  },
  {
   "cell_type": "code",
   "execution_count": 5,
   "metadata": {},
   "outputs": [],
   "source": [
    "date = []\n",
    "nombres = []\n",
    "precios = []"
   ]
  },
  {
   "cell_type": "code",
   "execution_count": 6,
   "metadata": {},
   "outputs": [
    {
     "name": "stderr",
     "output_type": "stream",
     "text": [
      "  6%|▌         | 29/500 [01:12<24:19,  3.10s/it]"
     ]
    }
   ],
   "source": [
    "base_url = 'https://www.eneba.com/es/store/games?page='\n",
    "\n",
    "max_page = 501\n",
    "\n",
    "for i in tqdm(range(1, max_page)):\n",
    "    \n",
    "    url = base_url+str(i)\n",
    "\n",
    "    request = requests.get(url)\n",
    "    doc = BeautifulSoup(request.text, 'html.parser')\n",
    "    \n",
    "    juegos_tag = doc.find_all(class_='pFaGHa WpvaUk')\n",
    "\n",
    "    for juego in juegos_tag:\n",
    "        \n",
    "        now = datetime.now()\n",
    "        current_time = now.strftime('%d/%m/%y %H:%M:%S')\n",
    "        \n",
    "        nombre = juego.find('span', class_='YLosEL').text\n",
    "        \n",
    "        precios_tag = juego.find_all('span', class_='L5ErLT')\n",
    "        if len(precios_tag) >= 2:\n",
    "            precio = precios_tag[1].text.replace('\\xa0€', '€')\n",
    "        elif len(precios_tag) == 1:\n",
    "            precio = precios_tag[0].text.replace('\\xa0€', '€')\n",
    "        else:\n",
    "            precio = \"\"\n",
    "        \n",
    "        nombres.append(nombre)\n",
    "        precios.append(precio)\n",
    "        date.append(current_time)\n",
    "    "
   ]
  },
  {
   "cell_type": "code",
   "execution_count": null,
   "metadata": {},
   "outputs": [],
   "source": [
    "juegos = {'Nombre':nombres, 'Precio' : precios, 'Fecha' : date}"
   ]
  },
  {
   "cell_type": "code",
   "execution_count": null,
   "metadata": {},
   "outputs": [
    {
     "data": {
      "text/html": [
       "<div>\n",
       "<style scoped>\n",
       "    .dataframe tbody tr th:only-of-type {\n",
       "        vertical-align: middle;\n",
       "    }\n",
       "\n",
       "    .dataframe tbody tr th {\n",
       "        vertical-align: top;\n",
       "    }\n",
       "\n",
       "    .dataframe thead th {\n",
       "        text-align: right;\n",
       "    }\n",
       "</style>\n",
       "<table border=\"1\" class=\"dataframe\">\n",
       "  <thead>\n",
       "    <tr style=\"text-align: right;\">\n",
       "      <th></th>\n",
       "      <th>Nombre</th>\n",
       "      <th>Precio</th>\n",
       "      <th>Fecha</th>\n",
       "    </tr>\n",
       "  </thead>\n",
       "  <tbody>\n",
       "    <tr>\n",
       "      <th>0</th>\n",
       "      <td>Sea of Thieves Deluxe Edition PC/XBOX LIVE Key...</td>\n",
       "      <td>11,00€</td>\n",
       "      <td>11/06/23 14:01:22</td>\n",
       "    </tr>\n",
       "    <tr>\n",
       "      <th>1</th>\n",
       "      <td>GhostWire: Tokyo (PC) Código de Steam GLOBAL</td>\n",
       "      <td>7,15€</td>\n",
       "      <td>11/06/23 14:01:22</td>\n",
       "    </tr>\n",
       "    <tr>\n",
       "      <th>2</th>\n",
       "      <td>Diablo® IV XBOX LIVE Key EUROPE</td>\n",
       "      <td>68,90€</td>\n",
       "      <td>11/06/23 14:01:22</td>\n",
       "    </tr>\n",
       "    <tr>\n",
       "      <th>3</th>\n",
       "      <td>Wall World (PC) Steam Key GLOBAL</td>\n",
       "      <td>1,68€</td>\n",
       "      <td>11/06/23 14:01:22</td>\n",
       "    </tr>\n",
       "    <tr>\n",
       "      <th>4</th>\n",
       "      <td>Midnight Ghost Hunt (PC) Steam Key GLOBAL</td>\n",
       "      <td>1,01€</td>\n",
       "      <td>11/06/23 14:01:22</td>\n",
       "    </tr>\n",
       "  </tbody>\n",
       "</table>\n",
       "</div>"
      ],
      "text/plain": [
       "                                              Nombre  Precio  \\\n",
       "0  Sea of Thieves Deluxe Edition PC/XBOX LIVE Key...  11,00€   \n",
       "1       GhostWire: Tokyo (PC) Código de Steam GLOBAL   7,15€   \n",
       "2                    Diablo® IV XBOX LIVE Key EUROPE  68,90€   \n",
       "3                   Wall World (PC) Steam Key GLOBAL   1,68€   \n",
       "4          Midnight Ghost Hunt (PC) Steam Key GLOBAL   1,01€   \n",
       "\n",
       "               Fecha  \n",
       "0  11/06/23 14:01:22  \n",
       "1  11/06/23 14:01:22  \n",
       "2  11/06/23 14:01:22  \n",
       "3  11/06/23 14:01:22  \n",
       "4  11/06/23 14:01:22  "
      ]
     },
     "execution_count": 266,
     "metadata": {},
     "output_type": "execute_result"
    }
   ],
   "source": [
    "df = pd.DataFrame(juegos)\n",
    "df.head()"
   ]
  },
  {
   "cell_type": "code",
   "execution_count": null,
   "metadata": {},
   "outputs": [],
   "source": [
    "df.to_csv('Listado.csv', sep=';', mode='a', index=False, header=False, encoding='utf-8')"
   ]
  },
  {
   "cell_type": "code",
   "execution_count": null,
   "metadata": {},
   "outputs": [],
   "source": []
  }
 ],
 "metadata": {
  "kernelspec": {
   "display_name": "Python 3",
   "language": "python",
   "name": "python3"
  },
  "language_info": {
   "codemirror_mode": {
    "name": "ipython",
    "version": 3
   },
   "file_extension": ".py",
   "mimetype": "text/x-python",
   "name": "python",
   "nbconvert_exporter": "python",
   "pygments_lexer": "ipython3",
   "version": "3.11.3"
  },
  "orig_nbformat": 4,
  "vscode": {
   "interpreter": {
    "hash": "be5b956ca49b59c586732a158f24ec81dcef84c6c577138709685363fba86ea5"
   }
  }
 },
 "nbformat": 4,
 "nbformat_minor": 2
}
